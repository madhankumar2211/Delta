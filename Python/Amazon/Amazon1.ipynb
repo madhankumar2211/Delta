{
 "cells": [
  {
   "cell_type": "code",
   "execution_count": 3,
   "id": "d214ab9c",
   "metadata": {},
   "outputs": [
    {
     "name": "stdout",
     "output_type": "stream",
     "text": [
      "                                         Product Name Original Price  \\\n",
      "0   Seagate Expansion 1.5 TB External HDD - USB 3....         ₹5,899   \n",
      "1   Seagate Backup Plus Slim 1 TB External HDD – U...         ₹4,999   \n",
      "2   WD 1.5TB Elements Portable External Hard Drive...         ₹5,734   \n",
      "3   WD 1TB My Passport Portable External Hard Driv...         ₹8,120   \n",
      "4   Seagate Portable 1TB External Hard Drive HDD –...         ₹4,999   \n",
      "5   Toshiba Canvio Basics 1TB Portable External HD...         ₹5,600   \n",
      "6   Lenovo Portable 1TB External Hard Disk Drive H...         ₹8,560   \n",
      "7   Transcend TS1TSJ25M3S StoreJet 1TB Portable Ex...         ₹7,999   \n",
      "8   My Book  4TB India High Capacity External Hard...        ₹17,000   \n",
      "9   Seagate Backup Plus Hub 4 TB External HDD - US...        ₹12,499   \n",
      "10              Consistent 160GB Hard Disk (CT3160SC)         ₹1,299   \n",
      "11  Toshiba Canvio Ready 1TB Portable External HDD...         ₹6,900   \n",
      "12  Toshiba Canvio Advance 1TB Portable External H...         ₹7,000   \n",
      "13  (Renewed) Seagate Expansion 1.5TB USB 3.0 Port...         ₹4,499   \n",
      "14  Transcend 2TB, 2.5\" Portable Hard Disk Drive, ...         ₹9,999   \n",
      "15  Adata HD710 Pro Military-Grade 2 TB Portable E...         ₹8,599   \n",
      "16  (Renewed) WD 1TB My Passport Portable External...         ₹3,969   \n",
      "17  Toshiba Canvio Flex 2TB Portable External HDD,...        ₹11,253   \n",
      "18  Lenovo Portable 2TB External Hard Disk Drive H...        ₹12,677   \n",
      "19  Transcend StoreJet 25H3P 2.5-inch 2TB Portable...        ₹10,999   \n",
      "20  Toshiba Canvio Ready 2TB Portable External HDD...         ₹9,800   \n",
      "21  Consistent External Hard Drive HDD 500GB (CT25...         ₹3,499   \n",
      "22  Seagate One Touch 2TB External HDD with Passwo...         ₹7,999   \n",
      "23  EVERSTORE 3.5 INCH Assembled Internal Hard Dis...         ₹5,000   \n",
      "\n",
      "   Offer Price  \n",
      "0       ₹4,499  \n",
      "1       ₹3,999  \n",
      "2       ₹4,249  \n",
      "3       ₹3,969  \n",
      "4       ₹4,099  \n",
      "5       ₹3,649  \n",
      "6       ₹3,699  \n",
      "7       ₹4,679  \n",
      "8       ₹7,691  \n",
      "9       ₹7,799  \n",
      "10        ₹740  \n",
      "11      ₹3,799  \n",
      "12      ₹3,899  \n",
      "13      ₹3,749  \n",
      "14      ₹6,183  \n",
      "15      ₹6,470  \n",
      "16      ₹3,599  \n",
      "17      ₹5,599  \n",
      "18      ₹5,959  \n",
      "19      ₹7,199  \n",
      "20      ₹5,299  \n",
      "21      ₹2,800  \n",
      "22      ₹5,499  \n",
      "23      ₹2,700  \n"
     ]
    }
   ],
   "source": [
    "driverPath = r\"C:\\Users\\Merit\\Desktop\\chromedriver.exe\"\n",
    "driver = webdriver.Chrome(executable_path=driverPath)\n",
    "driver.get(\"https://www.amazon.in/s?k=hard+disk&i=computers&rh=n%3A1375395031%2Cp_n_pct-off-with-tax%3A2665399031&dc&qid=1630143814&rnid=2665398031&ref=sr_nr_p_n_pct-off-with-tax_1\")\n",
    "name = driver.find_elements_by_xpath(\"//span[@class='a-size-medium a-color-base a-text-normal']\")\n",
    "originalprice = driver.find_elements_by_xpath(\"//span[@class='a-price a-text-price']\")\n",
    "offerprice = driver.find_elements_by_xpath(\"//span[@class='a-price']\")\n",
    "lst = []\n",
    "lst1 = []\n",
    "lst2 = []\n",
    "\n",
    "writer = pd.ExcelWriter(r\"C:\\Users\\Merit\\Desktop\\Python_Assignment-main\\amazon.xlsx\", engine='xlsxwriter')\n",
    "for i in name:\n",
    "    lst.append(i.text)\n",
    "\n",
    "for j in originalprice:\n",
    "    lst1.append(j.text)\n",
    "\n",
    "for k in offerprice:\n",
    "    lst2.append(k.text)\n",
    "\n",
    "\n",
    "df = pd.DataFrame(list(zip(lst,lst1,lst2)), columns = ['Product Name','Original Price','Offer Price'])\n",
    "df.to_excel(writer,index = False)\n",
    "writer.save()\n",
    "writer.close()\n",
    "print(df)\n",
    "driver.close()"
   ]
  },
  {
   "cell_type": "code",
   "execution_count": 1,
   "id": "ee24d26d",
   "metadata": {},
   "outputs": [],
   "source": [
    "import pandas as pd\n",
    "import warnings\n",
    "warnings.filterwarnings(\"ignore\")\n",
    "from selenium import webdriver\n",
    "from selenium.webdriver.support.ui import Select\n",
    "pd.set_option('display.max_rows',None)\n",
    "import time"
   ]
  },
  {
   "cell_type": "code",
   "execution_count": 9,
   "id": "2893a559",
   "metadata": {},
   "outputs": [
    {
     "data": {
      "text/plain": [
       "24"
      ]
     },
     "execution_count": 9,
     "metadata": {},
     "output_type": "execute_result"
    }
   ],
   "source": [
    "len(offerprice)"
   ]
  },
  {
   "cell_type": "code",
   "execution_count": null,
   "id": "4106ec55",
   "metadata": {},
   "outputs": [],
   "source": []
  }
 ],
 "metadata": {
  "kernelspec": {
   "display_name": "Python 3 (ipykernel)",
   "language": "python",
   "name": "python3"
  },
  "language_info": {
   "codemirror_mode": {
    "name": "ipython",
    "version": 3
   },
   "file_extension": ".py",
   "mimetype": "text/x-python",
   "name": "python",
   "nbconvert_exporter": "python",
   "pygments_lexer": "ipython3",
   "version": "3.9.6"
  }
 },
 "nbformat": 4,
 "nbformat_minor": 5
}
